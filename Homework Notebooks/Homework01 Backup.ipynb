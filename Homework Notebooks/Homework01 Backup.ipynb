{
 "cells": [
  {
   "cell_type": "markdown",
   "metadata": {},
   "source": [
    "## Phys 513 : Homework 01\n",
    "\n",
    "Due Jan 23 \n",
    "\n",
    "1. For your computer system write a program to estimate the number of floating-point operations (e.g., multiplications) that can bep be performed in one second. You can use the `time.time()` function as a stop watch.\n",
    "\n",
    "2. Modify the **orthog** program so that it can handle vectors of any length.  Your program should detect and gracefully handle erroneous inputs such as vectors of unequal length.\n",
    "\n",
    "3. Modify the **orthog** program so that it accepts a pair of theree-dimensional vectors and outputs a unit vector that is orthogonal to the input vectors.\n",
    "\n",
    "4. Modify the **orthog** program so that if the second vector is not orthogonal to the first, the program computes a new vector that is orthogonal to the first vector, has the same length as the second vector, and is in the same plane as the two input vectors. This orthogonalization is often used with eigenvectors and is commonly performed using the Gram-Schmidt procedure.\n",
    "\n",
    "5. Write a function that is similar to **intrpf** but that returns the estimated derivative at the interpolation point.  The function will accept three $(x,y)$ pairs, fit a quadratic to the data, then return the value of the derivative of the quadratic at the desired point.\n",
    "\n",
    "6. Newman 2.9\n",
    "\n",
    "7. Newman 2.10\n",
    "\n",
    "8. Newman 3.1\n",
    "\n",
    "9. Newman 3.6\n",
    "\n",
    "10. Newman 3.7"
   ]
  },
  {
   "cell_type": "code",
   "execution_count": 1,
   "metadata": {},
   "outputs": [
    {
     "name": "stdout",
     "output_type": "stream",
     "text": [
      "elapsed =  1.9073486328125e-05\n"
     ]
    }
   ],
   "source": [
    "#example\n",
    "\n",
    "import time\n",
    "\n",
    "t1 = time.time()\n",
    "\n",
    "# do some stuff\n",
    "            \n",
    "t2 = time.time()\n",
    "print(\"elapsed = \",t2-t1)"
   ]
  },
  {
   "cell_type": "code",
   "execution_count": null,
   "metadata": {},
   "outputs": [],
   "source": []
  }
 ],
 "metadata": {
  "kernelspec": {
   "display_name": "Python 3",
   "language": "python",
   "name": "python3"
  },
  "language_info": {
   "codemirror_mode": {
    "name": "ipython",
    "version": 3
   },
   "file_extension": ".py",
   "mimetype": "text/x-python",
   "name": "python",
   "nbconvert_exporter": "python",
   "pygments_lexer": "ipython3",
   "version": "3.6.9"
  }
 },
 "nbformat": 4,
 "nbformat_minor": 2
}
