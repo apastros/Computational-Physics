{
 "cells": [
  {
   "cell_type": "markdown",
   "metadata": {},
   "source": [
    "## Phys 513 : Homework 01\n",
    "\n",
    "Due Jan 23 \n",
    "\n",
    "1. For your computer system write a program to estimate the number of floating-point operations (e.g., multiplications) that can bep be performed in one second. You can use the `time.time()` function as a stop watch."
   ]
  },
  {
   "cell_type": "code",
   "execution_count": 1,
   "metadata": {},
   "outputs": [
    {
     "name": "stdout",
     "output_type": "stream",
     "text": [
      "elapsed time =  0.949054479598999 s\n",
      "calculations per second =  10536802.907484582\n"
     ]
    }
   ],
   "source": [
    "#Problem 1\n",
    "\n",
    "import time\n",
    "\n",
    "i = 1.15\n",
    "calc = 10000000\n",
    "t1 = time.time()\n",
    "\n",
    "for i in range(calc):\n",
    "    i = i*i\n",
    "        \n",
    "t2 = time.time()\n",
    "\n",
    "print(\"elapsed time = \",t2-t1,\"s\")\n",
    "calcPerSec = calc/(t2-t1)\n",
    "print(\"calculations per second = \",calcPerSec)"
   ]
  },
  {
   "cell_type": "markdown",
   "metadata": {},
   "source": [
    "2. Modify the **orthog** program so that it can handle vectors of any length.  Your program should detect and gracefully handle erroneous inputs such as vectors of unequal length."
   ]
  },
  {
   "cell_type": "code",
   "execution_count": 2,
   "metadata": {},
   "outputs": [
    {
     "name": "stdout",
     "output_type": "stream",
     "text": [
      "Enter two vectors in the form [x,y,...,z]\n",
      "Enter the first vector: [0,1,0,0]\n",
      "Enter the second vector: [0,0,1,0]\n",
      "Vectors are orthogonal\n"
     ]
    }
   ],
   "source": [
    "# Problem 2\n",
    "# Orthog - check for orthogonality of two vectors\n",
    "\n",
    "import numpy as np\n",
    "\n",
    "while True:\n",
    "# initialize vectors a and b\n",
    "    print(\"Enter two vectors in the form [x,y,...,z]\")\n",
    "    a = eval(input(\"Enter the first vector: \"))\n",
    "    b = eval(input(\"Enter the second vector: \"))\n",
    "# check that vectors are same length\n",
    "    if len(a) == len(b):\n",
    "        break\n",
    "    else:\n",
    "        True\n",
    "        print(\"Error! Vectors are of different size. Try again\")\n",
    "# evaluate the dot product\n",
    "# a_dot_b = 0.\n",
    "# for i in range(3):\n",
    "#     a_dot_b += a[i] * b[i]\n",
    "a_dot_b = np.dot(a,b)\n",
    "    \n",
    "if a_dot_b == 0:\n",
    "    print(\"Vectors are orthogonal\")\n",
    "else:\n",
    "    print(\"Vectors are not orthogonal\")\n",
    "    print(\"Dot product = \",a_dot_b)"
   ]
  },
  {
   "cell_type": "markdown",
   "metadata": {},
   "source": [
    "3. Modify the **orthog** program so that it accepts a pair of three-dimensional vectors and outputs a unit vector that is orthogonal to the input vectors."
   ]
  },
  {
   "cell_type": "code",
   "execution_count": null,
   "metadata": {},
   "outputs": [],
   "source": [
    "# Problem 3\n",
    "# Orthog - check for orthogonality of two vectors\n",
    "\n",
    "import numpy as np\n",
    "\n",
    "while True:\n",
    "# initialize vectors a and b\n",
    "    a = eval(input(\"Enter the first vector: \"))\n",
    "    b = eval(input(\"Enter the second vector: \"))\n",
    "# check that vectors are same length\n",
    "    if len(a) == len(b):\n",
    "        if len(a) == 3:\n",
    "            break\n",
    "        else:\n",
    "            print(\"Vectors must be three dimensional\")\n",
    "            True\n",
    "    else:\n",
    "        True\n",
    "        print(\"Error! Vectors are of different size. Try again\")\n",
    "# evaluate the dot product\n",
    "# a_dot_b = 0.\n",
    "# for i in range(3):\n",
    "#     a_dot_b += a[i] * b[i]\n",
    "a_cross_b = np.cross(a,b)\n",
    "ortho_unit = a_cross_b/np.linalg.norm(a_cross_b)    \n",
    "    print(\"Orthogonal unit vector = \",ortho_unit)"
   ]
  },
  {
   "cell_type": "markdown",
   "metadata": {},
   "source": [
    "4. Modify the **orthog** program so that if the second vector is not orthogonal to the first, the program computes a new vector that is orthogonal to the first vector, has the same length as the second vector, and is in the same plane as the two input vectors. This orthogonalization is often used with eigenvectors and is commonly performed using the Gram-Schmidt procedure."
   ]
  },
  {
   "cell_type": "code",
   "execution_count": null,
   "metadata": {},
   "outputs": [],
   "source": [
    "# Problem 5\n",
    "# Orthog - check for orthogonality of two vectors\n",
    "\n",
    "import numpy as np\n",
    "\n",
    "while True:\n",
    "# initialize vectors a and b\n",
    "    a = eval(input(\"Enter the first vector: \"))\n",
    "    b = eval(input(\"Enter the second vector: \"))\n",
    "# check that vectors are same length\n",
    "    if len(a) == len(b):\n",
    "        if len(a) == 3:\n",
    "            break\n",
    "        else:\n",
    "            print(\"Vectors must be three dimensional\")\n",
    "            True\n",
    "    else:\n",
    "        True\n",
    "        print(\"Error! Vectors are of different size. Try again\")\n",
    "# evaluate the dot product\n",
    "# a_dot_b = 0.\n",
    "# for i in range(3):\n",
    "#     a_dot_b += a[i] * b[i]\n",
    "a_dot_b = np.dot(a,b)\n",
    "a_cross_b = np.cross(a,b)  \n",
    "\n",
    "if a_dot_b == 0:\n",
    "    print(\"Vectors are orthogonal\")\n",
    "else:\n",
    "    orth_v = np.cross(a,a_cross_b) \n",
    "    orth_v_mag = np.linalg.norm(orth_v)\n",
    "    b_mag = np.linalg.norm(b)\n",
    "    orth_v_b_mag = orth_v*b_mag/orth_v_mag\n",
    "    print(\"Vectors are not orthogonal. An orthogonal vector in plane with a and b with the magnitude of b is \",orth_v_b_mag)\n",
    "    "
   ]
  },
  {
   "cell_type": "markdown",
   "metadata": {},
   "source": [
    "5. Write a function that is similar to **intrpf** but that returns the estimated derivative at the interpolation point.  The function will accept three $(x,y)$ pairs, fit a quadratic to the data, then return the value of the derivative of the quadratic at the desired point."
   ]
  },
  {
   "cell_type": "code",
   "execution_count": null,
   "metadata": {},
   "outputs": [],
   "source": [
    "# interp - program to interpolate data using Lagrange polynomial\n",
    "#          to fit quadratic to three data points\n",
    "\n",
    "import numpy as np\n",
    "import matplotlib.pyplot as plt\n",
    "\n",
    "def intrpf(xi,x,y):\n",
    "    \"\"\"Function to interpolate between data points\n",
    "    using Lagrange polynomial\n",
    "    Inputs\n",
    "      x   Vector of x coords of data pints (3 values)\n",
    "      y   Vector of y coords\n",
    "      xi  The x value where interpolation is computed\n",
    "    Output\n",
    "      yi  The interpolated value evaluated at xi\n",
    "    \"\"\"\n",
    "\n",
    "    # calculate yi = p(xi) using Lagrange polynomial \n",
    "    yi = ((xi-x[1])*(xi-x[2])/((x[0]-x[1])*(x[0]-x[2]))) * y[0]\\\n",
    "        +((xi-x[0])*(xi-x[2])/((x[1]-x[0])*(x[1]-x[2]))) * y[1]\\\n",
    "        +((xi-x[0])*(xi-x[1])/((x[2]-x[0])*(x[2]-x[1]))) * y[2]\n",
    "    return yi\n",
    "\n",
    "# Initialize the data points \n",
    "x = np.empty(3)\n",
    "y = np.empty(3)\n",
    "for i in range(3):\n",
    "    temp = np.array(eval(input(\"Enter pair (e.g., [1,2]): \")))\n",
    "    x[i] = temp[0]\n",
    "    y[i] = temp[1]\n",
    "    \n",
    "# Find the derivative\n",
    "\n",
    "dydx_pt = np.array(eval(input(\"Enter x value to find derivative at: x = \")))\n",
    "    \n",
    "\n",
    "    \n",
    "    \n",
    "# Establish the range of interpolation\n",
    "xr = np.array(eval(input(\"Enter range (e.g., [x_min,xmax]): \")))\n",
    "\n",
    "# Find yi for xi using the function intrpf\n",
    "nplot = 100\n",
    "xi = np.empty(nplot)\n",
    "yi = np.empty(nplot)\n",
    "for i in range(nplot):\n",
    "    xi[i] = xr[0] + (xr[1]-xr[0]) * i/float(nplot)\n",
    "    yi[i] = intrpf(xi[i], x, y)\n",
    "    \n",
    "# Find the discrete derivative    \n",
    "der = np.diff(yi)/np.diff(xi)    \n",
    "derx = np.empty(nplot-1)\n",
    "for j in range(nplot-1):\n",
    "    derx[j] = xi[j]\n",
    "for k in range(nplot-1):\n",
    "    if dydx_pt - derx[k] <= 0.05:\n",
    "        break\n",
    "print(der[k],\" is the derivative at point x = \",dydx_pt)\n",
    "\n",
    "# Plot the curve\n",
    "plt.plot(x,y,'*',xi,yi,'-',derx,der,'-',dydx_pt,der[k],'*')\n",
    "plt.title(\"3-point Interpolation\")\n",
    "plt.xlabel('x')\n",
    "plt.ylabel('y')\n",
    "plt.legend(['Data Points','Interpolation','Interpolated Derivative','Test Point'])\n",
    "plt.show()"
   ]
  },
  {
   "cell_type": "markdown",
   "metadata": {},
   "source": [
    "6. Newman 2.9"
   ]
  },
  {
   "cell_type": "code",
   "execution_count": 1,
   "metadata": {},
   "outputs": [
    {
     "name": "stdout",
     "output_type": "stream",
     "text": [
      "L = 100\n",
      "The value of the Madelung constant for NaCl is 1.7418198158360134\n"
     ]
    }
   ],
   "source": [
    "import math\n",
    "l = eval(input(\"L = \"))\n",
    "m1=0;\n",
    "# m1 is madelung for a quadrant\n",
    "for i in range(1,l+1):   \n",
    "    for j in range (1,l+1):       \n",
    "        for k in range (1,l+1):\n",
    "                m1+=((-1)**(i+j+k+1))/math.sqrt(i*i+j*j+k*k)           \n",
    "# m2 is madelung for an axis\n",
    "m2=0;\n",
    "for i in range (1,l+1):\n",
    "    m2+=((-1)**(i+1))/math.sqrt(i*i)\n",
    "# m3 is madelung for the plane that the axes make\n",
    "m3=0;\n",
    "for i in range (1,l+1):\n",
    "    for j in range(1,l+1):\n",
    "        m3+=((-1)**(i+j+1))/math.sqrt(i*i+j*j)\n",
    "\n",
    "m=8*m1+12*m3+6*m2;\n",
    "\n",
    "print(\"The value of the Madelung constant for NaCl is\",m)\n"
   ]
  },
  {
   "cell_type": "markdown",
   "metadata": {},
   "source": [
    "7. Newman 2.10"
   ]
  },
  {
   "cell_type": "code",
   "execution_count": null,
   "metadata": {},
   "outputs": [],
   "source": [
    "import math\n",
    "\n",
    "# Part a: this function finds the Nuclear binding Energy for a given A and Z\n",
    "def getNuclerBindingEnergy(A, Z):\n",
    "# define all the constants first\n",
    "    a1 = 15.67\n",
    "    a2 = 17.23\n",
    "    a3 = 0.75\n",
    "    a4 = 93.2\n",
    "    a5 = 0\n",
    "  \n",
    "  \n",
    "# conditions to calculate a5\n",
    "    if A % 2 == 1:\n",
    "        a5 = 0\n",
    "    else:\n",
    "        if Z % 2 == 0:\n",
    "            a5 = 12.0\n",
    "        else:\n",
    "            a5 = -12.0\n",
    "      \n",
    "# calculate B\n",
    "    B = a1*A - a2*math.pow(A, 2/3) - a3*(Z*Z/math.pow(A, 1/3)) - a4*(math.pow(A-2*Z, 2)/A) + a5/math.pow(A, 1/2)\n",
    "  \n",
    "# return B\n",
    "    return B\n",
    "\n",
    "# Part b: this function finds the Nuclear binding Energy per nucleon for a given A and Z\n",
    "def getNuclerBindingEnergyPerNucleon(A, Z):\n",
    "    return getNuclerBindingEnergy(A, Z) / A\n",
    "\n",
    "# Part c: This function returns the maximum binding enery per nucleon and its corresponding A value for a given Z\n",
    "def getStableNucleus(Z):\n",
    "    max = 0.0\n",
    "    maxA = 0\n",
    "  \n",
    "    # loop from A = Z to 3Z\n",
    "    for A in range(Z, 3*Z + 1):\n",
    "    # fing binding enery per nucleon for each A\n",
    "        bindingEnergy = getNuclerBindingEnergyPerNucleon(A, Z)\n",
    "    # update max\n",
    "        if max < bindingEnergy:\n",
    "            max = bindingEnergy\n",
    "            maxA = A\n",
    "      \n",
    "    return max, maxA\n",
    "\n",
    "# Part d: This function loops through Z =1 to 100 and find the maximum binding enery per nucleon for each Z and then prints the Z value for which overall maximum occurs\n",
    "def findOverallStableNucleus():\n",
    "    maxZ = 0\n",
    "    max = 0.0\n",
    "      \n",
    "    # loop through Z = 1 to 100\n",
    "    for Z in range(1, 101):\n",
    "        currentMax, maxA = getStableNucleus(Z)\n",
    "        print(\"Z = %d: The maximum binding enery per nucleon = %f Mev for A = %d\" % (Z, currentMax, maxA))\n",
    "    # update max\n",
    "        if max < currentMax:\n",
    "            max = currentMax\n",
    "            maxZ = Z\n",
    "          \n",
    "    print(\"The overall maximum binding energy per nucleon occur at Z = \",maxZ)\n",
    "\n",
    "# part a\n",
    "print(\"The binding enery for the corresponding atom is: %f MeV\" % getNuclerBindingEnergy(58, 28))\n",
    "\n",
    "# part b\n",
    "print(\"The binding enery per nucleon for the corresponding atom is: %f MeV\" % getNuclerBindingEnergyPerNucleon(58, 28))\n",
    "\n",
    "# part c\n",
    "Z = int(input(\"Enter the value of Z : \"))\n",
    "max, maxA = getStableNucleus(Z)\n",
    "print(\"Z = %d: The maximum binding enery per nucleon = %f Mev for A = %d\" % (Z, max, maxA))\n",
    "\n",
    "# part d\n",
    "print(\"Finding the maximum Z now..........\")\n",
    "findOverallStableNucleus()"
   ]
  },
  {
   "cell_type": "markdown",
   "metadata": {},
   "source": [
    "8. Newman 3.1"
   ]
  },
  {
   "cell_type": "code",
   "execution_count": null,
   "metadata": {},
   "outputs": [],
   "source": [
    "import numpy as np\n",
    "import matplotlib.pyplot as plt\n",
    "\n",
    "\n",
    "# Part A\n",
    "data = np.loadtxt(\"sunspots.txt\",float)\n",
    "x = data[:,0]\n",
    "y = data[:,1]\n",
    "plt.plot(x,y)\n",
    "plt.title(\"Sunspots Observed per Month\")\n",
    "plt.xlabel(\"Months since Jan 1749\")\n",
    "plt.ylabel(\"Sunspots Observed\")\n",
    "plt.grid(True)\n",
    "plt.show()\n",
    "\n",
    "# Part B\n",
    "\n",
    "x = data[1:1000,0]\n",
    "y = data[1:1000,1]\n",
    "plt.plot(x,y)\n",
    "plt.title(\"Sunspots Observed per Month (First 1000 Months)\")\n",
    "plt.xlabel(\"Months since Jan 1749\")\n",
    "plt.ylabel(\"Sunspots Observed\")\n",
    "plt.grid(True)\n",
    "plt.show()\n",
    "\n",
    "\n",
    "# Part C\n",
    "\n",
    "def movingaverage(interval, window_size):\n",
    "    window= np.ones(int(window_size))/float(window_size)\n",
    "    return np.convolve(interval, window, 'same')\n",
    "\n",
    "x = data[:,0]\n",
    "y = data[:,1]\n",
    "\n",
    "\n",
    "plt.plot(x,y)\n",
    "y_av = movingaverage(y, 5)\n",
    "plt.plot(x, y_av)\n",
    "plt.title(\"Sunspots Observed per Month (First 1000 Months) w/ Running Average\")\n",
    "plt.xlim(0,1000)\n",
    "plt.xlabel(\"Months since Jan 1749\")\n",
    "plt.ylabel(\"Number of Sunspots Observed\")\n",
    "plt.grid(True)\n",
    "plt.show()"
   ]
  },
  {
   "cell_type": "markdown",
   "metadata": {},
   "source": [
    "9. Newman 3.6"
   ]
  },
  {
   "cell_type": "code",
   "execution_count": null,
   "metadata": {},
   "outputs": [],
   "source": [
    "import numpy as np\n",
    "import matplotlib.pyplot as plt\n",
    "\n",
    "r = np.zeros(1)\n",
    "i = 2\n",
    "for i in range(len(r)):\n",
    "    r[i] = r[i-1]+0.01\n",
    "    \n",
    "x = np.zeros(100)\n",
    "x[1] = 0.5\n",
    "i = 1\n",
    "j = 1\n",
    "k = 1\n",
    "for i in range(len(r)):\n",
    "    for j in range(len(x)-1):\n",
    "        x[j+1] = r[i]*x[j]*(1-x[j])\n",
    "        for k in range(len(x)):\n",
    "            plt.plot(x[j],r[i],'ko')\n",
    "            print(i, j, k)\n",
    "plt.show()"
   ]
  },
  {
   "cell_type": "markdown",
   "metadata": {},
   "source": [
    "10. Newman 3.7"
   ]
  },
  {
   "cell_type": "code",
   "execution_count": null,
   "metadata": {},
   "outputs": [],
   "source": []
  }
 ],
 "metadata": {
  "kernelspec": {
   "display_name": "Python 3",
   "language": "python",
   "name": "python3"
  },
  "language_info": {
   "codemirror_mode": {
    "name": "ipython",
    "version": 3
   },
   "file_extension": ".py",
   "mimetype": "text/x-python",
   "name": "python",
   "nbconvert_exporter": "python",
   "pygments_lexer": "ipython3",
   "version": "3.7.4"
  }
 },
 "nbformat": 4,
 "nbformat_minor": 2
}
