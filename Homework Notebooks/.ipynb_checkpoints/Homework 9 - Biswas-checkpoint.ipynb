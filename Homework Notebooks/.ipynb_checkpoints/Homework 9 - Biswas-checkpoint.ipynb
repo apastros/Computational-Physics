{
 "cells": [
  {
   "cell_type": "markdown",
   "metadata": {},
   "source": [
    "# HW Set 9 - Random Stuff\n",
    "## Due April 16, 2020\n",
    "\n",
    "### Name:   Paul Biswas\n",
    "\n",
    "#### Note: If a problem asks you to work things out for different initial conditions or timesteps, please first do your first choice in one cell, then copy your code with the new inputs into a new cell, etc.  Try to end up with a notebook that would be a complete solution if printed out.\n",
    "\n",
    "---\n"
   ]
  },
  {
   "cell_type": "markdown",
   "metadata": {
    "collapsed": true
   },
   "source": [
    "**Problem 1: Rejection Method**\n",
    "\n",
    "Use the rejection method to generate a sequence of random numbers distributed according to $P_y(y) = \\alpha e^{-\\beta y}$.  Make a 10-bin histogram of the resulting distribution for $N=1000$ draws from the distribution, and a 100-bin histogram of the resulting distribution for $N=10^6$ draws from the distribution.  Plot the analytical curve over both. Here's a simple code to demonstrate how to plot a histogram:\n",
    "\n",
    "    import matplotlib.pyplot as plt\n",
    "    import numpy as np\n",
    "    x = np.random.randn(500)\n",
    "    width = 0.5\n",
    "    histmin = np.floor(min(x))\n",
    "    histmax = np.ceil(max(x))+width\n",
    "    bins = np.arange(histmin,histmax,width)\n",
    "    plt.hist(x,bins=bins)\n",
    "    plt.show()\n"
   ]
  },
  {
   "cell_type": "code",
   "execution_count": 1,
   "metadata": {},
   "outputs": [
    {
     "data": {
      "image/png": "[encoded data removed]",
      "text/plain": [
       "<Figure size 432x288 with 1 Axes>"
      ]
     },
     "metadata": {
      "needs_background": "light"
     },
     "output_type": "display_data"
    }
   ],
   "source": [
    "import matplotlib.pyplot as plt\n",
    "import numpy as np\n",
    "\n",
    "def P(y):\n",
    "    return np.exp(-y)\n",
    "N = 1000\n",
    "x = np.random.randn(N)\n",
    "x = P(x)\n",
    "width = 1/N\n",
    "histmin = np.floor(min(x))\n",
    "histmax = np.ceil(max(x))+width\n",
    "bins = np.arange(histmin,histmax,width)\n",
    "plt.hist(x,bins=bins)\n",
    "y = np.sort(x)\n",
    "plt.plot(y,P(y))\n",
    "plt.xlim(0,0.1)\n",
    "plt.show()"
   ]
  },
  {
   "cell_type": "markdown",
   "metadata": {},
   "source": [
    "---\n",
    "**Problem 2: Hypersphere volume**\n",
    "\n",
    "Newman problem 10.7, but give volumes for spheres of 'radius = 1' and dimensionality 1-10 (e.g., for 1D, 'V' = 2, for 2D, V = $\\pi$ (area), etc.)"
   ]
  },
  {
   "cell_type": "code",
   "execution_count": null,
   "metadata": {},
   "outputs": [],
   "source": [
    "from numpy.random import random\n",
    "from numpy import zeros,sqrt,arange\n",
    "\n",
    "N = 1000000\n",
    "dim = arange(1,11,1)\n",
    "\n",
    "def f(x):\n",
    "\n",
    "    r2 = zeros(x.shape[1],float)\n",
    "\n",
    "    for xi in x:\n",
    "        r2 += xi**2\n",
    "    \n",
    "    return r2<1\n",
    "for i in dim:\n",
    "    x = random((dim[i],N))*2 - 1\n",
    "\n",
    "    fx = f(x)\n",
    "    I = 2**dim[i]/N * sum(fx)\n",
    "\n",
    "    var = sum(fx**2)/N-(sum(fx)/N)**2 \n",
    "    sigma = 2**dim[i]*sqrt(var/N)\n",
    "    print('For dimension {}, I = {} + {}'.format(dim[i],I,sigma))"
   ]
  },
  {
   "cell_type": "markdown",
   "metadata": {},
   "source": [
    "---\n",
    "**Problem 3: Random Walk in 2D**\n",
    "\n",
    "Simulate a random walk in 2D for $N_{\\rm walkers}$ each stepping $N_{\\rm steps}$.   Start all walkers at the origin of your coordinate system, and plot the positions of all particles at 5 times sampled from your steps (0, $N_{\\rm steps}/4$, $N_{\\rm steps}/2$ $N_{\\rm steps}*3/4$, $N_{\\rm steps}-1$)."
   ]
  },
  {
   "cell_type": "code",
   "execution_count": null,
   "metadata": {},
   "outputs": [],
   "source": [
    "# Plot a random walk\n",
    "import matplotlib.pyplot as plt\n",
    "import matplotlib.animation as animation\n",
    "import random\n",
    "\n",
    "N_walkers = 100\n",
    "N_steps = 100\n",
    "def random_walk(N_steps):\n",
    "    X,Y = [],[]\n",
    "    x,y = 0,0\n",
    "\n",
    "    for i in range(N_steps):\n",
    "        (dx, dy) = random.choice([(0,1),(1,0),(0,-1),(-1,0)])\n",
    "        x += dx\n",
    "        y += dy\n",
    "        X.append(x)\n",
    "        Y.append(y)\n",
    "    return(X,Y)\n",
    "fig = plt.figure()\n",
    "ax = fig.add_subplot(111, aspect='equal', autoscale_on=False,\n",
    "             xlim=(-50, 50), ylim=(-50, 50))\n",
    "for i in range(N_walkers):\n",
    "    X,Y = random_walk(N_steps)\n",
    "    plt.plot(X[0],Y[0])\n",
    "    plt.plot(X[int(N_steps/4)],Y[int(N_steps/4)],'bo')\n",
    "    plt.plot(X[int(N_steps/2)],Y[int(N_steps/2)],'bo')\n",
    "    plt.plot(X[int(3*N_steps/4)],Y[int(3*N_steps/4)],'bo')\n",
    "    plt.plot(X[int(N_steps/4-1)],Y[int(N_steps/4-1)],'bo')\n",
    "\n",
    "#def animate(i):\n",
    "#    point.set_data(X[i],Y[i])\n",
    "#ani = animation.FuncAnimation(fig,animate)\n",
    "plt.show()\n"
   ]
  },
  {
   "cell_type": "markdown",
   "metadata": {},
   "source": [
    "---\n",
    "**Problem 4: Entropy**\n",
    "\n",
    "Extend Problem 3 to now calculate the entropy of the distribution as a function of time, as we discussed in class.  Here, you should plot only the final particle distribution and the entropy curve at the end of the calculation.  You may stop your time stepping when your first particle reaches the boundary of your calculation domain.  I suggest you use either 9 or 25 ancillary grid cells."
   ]
  },
  {
   "cell_type": "markdown",
   "metadata": {},
   "source": [
    "---\n",
    "**Problem 5: Entropy 2**\n",
    "\n",
    "Modify the code from Problem 3 so that particles cannot leave the computational domain.  For example, if a particle tries to step left past index $ix =0$ force it to step right instead, and similarly for the other boundaries.  Run the calculation until the entropy versus time curve flattens out.  Plot the final particle distribution and the entropy curve."
   ]
  },
  {
   "cell_type": "markdown",
   "metadata": {},
   "source": [
    "---\n",
    "**Problem 6: Random Walk in 3D**\n",
    "\n",
    "Simulate a random walk in 3D allowing the walker to make steps of unit length in random directions - don't restrict the walkers to sites on a discrete lattice.  Show that the motion is diffusive, that is $<r^2> = Dt$.  Find the value of $D$.  Note that to get a uniform distribution of angles, you will actually want to draw 3 values of $x$, $y$, and $z$, and then renormalize so the length of the displacement vector is 1.0.   Think about and explain why you cannot simply draw from random distributions of $(1.0,\\theta,\\phi)$ and get a uniform distribution of directions."
   ]
  },
  {
   "cell_type": "markdown",
   "metadata": {},
   "source": [
    "---\n",
    "**Problem 7: Diffusion Limited Aggregation**\n",
    "\n",
    "Write a code that simulates diffusion limited aggregation in 2D, as discussed in class, and prints out the dimmensionality of the resulting cluster.  Plot the final state of the cluster.  As discussed in class, put a seed particle in you computational domain.  Start particles on a circle of radius $R_{\\rm start}$ that is $\\sim$3-5 units bigger than the cluster size.  If a particle wanders out past 1.5 $R_{\\rm start}$, kill it and restart a new random particle on the circle.  \n",
    "\n",
    "For calculating the radius of the cluster a useful NumPy routine is \"nonzero()\" which returns the indices of the array that store values that are not zero.  So for example\n",
    "\n",
    "    x,y = np.nonzero(c)\n",
    "\n",
    "returns the $x,y$ arrays of non-zero elements in array $c$.  You can then use these to calculate $r_{\\rm max}$, and then add 3-5 to get $R_{\\rm start}$."
   ]
  },
  {
   "cell_type": "markdown",
   "metadata": {},
   "source": [
    "---\n",
    "**Problem 8: DLA 2**\n",
    "Write a code that generates a DLA structure using an initial \"seed\" which is the entire $x$ axis, e.g.,\n",
    "\n",
    "    c = np.zeros([n,n],dtype=int)\n",
    "    c[:,0] = 1\n",
    "    \n",
    "Then you'll start your walkers on a line that is $\\sim$ 3-5 units higher than the maximum occupied $y$ value.  The resulting structure has been used to model the paths followed by electric discharges in a gas (e.g., lightning bolts)."
   ]
  },
  {
   "cell_type": "markdown",
   "metadata": {
    "collapsed": true
   },
   "source": [
    "---\n",
    "**Problem 9: Percolation**\n",
    "\n",
    "Generate a spanning cluster for a two-demensional square lattice at $p = p_c$ using the code from the 'dragly' blog.  Estimate the fractal dimensionality of the cluster.  You should find a value of $d_f$ which is slightly smaller than 2 (the expected value is $\\sim$1.9)."
   ]
  },
  {
   "cell_type": "code",
   "execution_count": null,
   "metadata": {},
   "outputs": [],
   "source": []
  }
 ],
 "metadata": {
  "anaconda-cloud": {},
  "kernelspec": {
   "display_name": "Python 3",
   "language": "python",
   "name": "python3"
  },
  "language_info": {
   "codemirror_mode": {
    "name": "ipython",
    "version": 3
   },
   "file_extension": ".py",
   "mimetype": "text/x-python",
   "name": "python",
   "nbconvert_exporter": "python",
   "pygments_lexer": "ipython3",
   "version": "3.7.6"
  }
 },
 "nbformat": 4,
 "nbformat_minor": 1
}
