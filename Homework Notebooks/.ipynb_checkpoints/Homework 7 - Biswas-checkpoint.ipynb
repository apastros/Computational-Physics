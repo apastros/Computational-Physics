{
 "cells": [
  {
   "cell_type": "markdown",
   "metadata": {},
   "source": [
    "# MD Simulations\n",
    "### Problem 1: Epidemic simulation"
   ]
  },
  {
   "cell_type": "code",
   "execution_count": 1,
   "metadata": {},
   "outputs": [
    {
     "name": "stdout",
     "output_type": "stream",
     "text": [
      "Number of contaminated cases =  1\n"
     ]
    },
    {
     "data": {
      "image/png": "[encoded data removed]",
      "text/plain": [
       "<Figure size 432x288 with 1 Axes>"
      ]
     },
     "metadata": {
      "needs_background": "light"
     },
     "output_type": "display_data"
    }
   ],
   "source": [
    "import numpy as np\n",
    "import matplotlib.pyplot as plt\n",
    "import matplotlib.animation as animation\n",
    "from scipy.spatial.distance import pdist, squareform\n",
    "from celluloid import Camera\n",
    "\n",
    "v0 = 1/2\n",
    "N = 20\n",
    "dt = 1./60\n",
    "time = 10\n",
    "t = np.arange(0,time,dt)\n",
    "size = 0.04\n",
    "bounds = [0, 1, 0, 1]\n",
    "M = 1\n",
    "\n",
    "np.random.seed(0)\n",
    "contaminated = [False] * N\n",
    "contaminated[0] = True\n",
    "particles = np.random.rand(N,4)\n",
    "\n",
    "def step(particles,dt):\n",
    "\n",
    "    # update position\n",
    "    particles[:,0] += particles[:,2] * dt\n",
    "    particles[:,1] += particles[:,3] * dt\n",
    "\n",
    "    # update velocity\n",
    "    D = squareform(pdist(particles[:, :2]))\n",
    "    ind1, ind2 = np.where(D < 2 * size)\n",
    "    unique = (ind1 < ind2)\n",
    "    ind1 = ind1[unique]\n",
    "    ind2 = ind2[unique]\n",
    "    for i1, i2 in zip(ind1, ind2):\n",
    "\n",
    "        # location vector\n",
    "        r1 = particles[i1, :2]\n",
    "        r2 = particles[i2, :2]\n",
    "\n",
    "        # velocity vector\n",
    "        v1 = particles[i1, 2:]\n",
    "        v2 = particles[i2, 2:]\n",
    "\n",
    "        # relative location & velocity vectors\n",
    "        r_rel = r1 - r2\n",
    "        v_rel = v1 - v2\n",
    "\n",
    "        # momentum vector of the center of mass\n",
    "        v_cm = (M * v1 + M * v2) / (M + M)\n",
    "\n",
    "        # collisions of spheres reflect v_rel over r_rel\n",
    "        rr_rel = np.dot(r_rel, r_rel)\n",
    "        vr_rel = np.dot(v_rel, r_rel)\n",
    "        v_rel = 2 * r_rel * vr_rel / rr_rel - v_rel\n",
    "\n",
    "        # assign new velocities\n",
    "        particles[i1, 2:] = (v_cm + v_rel * M / (M + M))/np.linalg.norm(v_cm + v_rel * M / (M + M))*v0\n",
    "        particles[i2, 2:] = (v_cm - v_rel * M / (M + M))/np.linalg.norm(v_cm - v_rel * M / (M + M))*v0\n",
    "\n",
    "        # contaminate particles\n",
    "        if contaminated[i1] or contaminated[i2]:\n",
    "            contaminated[i1] = True\n",
    "            contaminated[i2] = True\n",
    "\n",
    "        # check if bounday crossed and reflect particle back\n",
    "        crossed_x1 = (particles[:, 0] < bounds[0] + size)\n",
    "        crossed_x2 = (particles[:, 0] > bounds[1] - size)\n",
    "        crossed_y1 = (particles[:, 1] < bounds[2] + size)\n",
    "        crossed_y2 = (particles[:, 1] > bounds[3] - size)\n",
    "\n",
    "        particles[crossed_x1, 0] = bounds[0] + size\n",
    "        particles[crossed_x2, 0] = bounds[1] - size\n",
    "\n",
    "        particles[crossed_y1, 1] = bounds[2] + size\n",
    "        particles[crossed_y2, 1] = bounds[3] - size\n",
    "\n",
    "        particles[crossed_x1 | crossed_x2, 2] *= -1\n",
    "        particles[crossed_y1 | crossed_y2, 3] *= -1\n",
    "\n",
    "    return(particles)\n",
    "\n",
    "\n",
    "\n",
    "# set up figure and animation\n",
    "\n",
    "fig = plt.figure()\n",
    "ax = fig.add_subplot(111, aspect='equal', autoscale_on=False,\n",
    "                     xlim=(-3.2, 3.2), ylim=(-2.4, 2.4))\n",
    "c = ['red' if i == True else 'blue' for i in contaminated]\n",
    "point, = ax.plot(particles[:,0],particles[:,1],'bo')\n",
    "ms = int(fig.dpi * 2 * size * fig.get_figwidth()\n",
    "         / np.diff(ax.get_xbound())[0])\n",
    "point.set_markersize(ms)\n",
    "ax.set_xlim([bounds[0],bounds[1]])\n",
    "ax.set_ylim([bounds[2],bounds[3]])\n",
    "def animate(i):\n",
    "    global particles, dt, contaminated\n",
    "    c = ['red' if i == True else 'blue' for i in contaminated]\n",
    "    particles = step(particles,dt)\n",
    "    point.set_data(particles[:,0],particles[:,1])\n",
    "    print('Number of contaminated cases = ', sum(contaminated))\n",
    "#    point.set_color(c)\n",
    "    return point\n",
    "ani = animation.FuncAnimation(fig,animate,frames=600,interval=1)\n",
    "plt.show()\n"
   ]
  },
  {
   "cell_type": "markdown",
   "metadata": {},
   "source": [
    "Unfortunately I couldn't figure out how to change the color of the points with this code. So, instead, I listed the number of contaminated individuals with each animation loop. This does not animate with jupyter, but it does when executing the code in a terminal."
   ]
  },
  {
   "cell_type": "code",
   "execution_count": null,
   "metadata": {},
   "outputs": [],
   "source": []
  },
  {
   "cell_type": "code",
   "execution_count": null,
   "metadata": {},
   "outputs": [],
   "source": []
  }
 ],
 "metadata": {
  "kernelspec": {
   "display_name": "Python 3",
   "language": "python",
   "name": "python3"
  },
  "language_info": {
   "codemirror_mode": {
    "name": "ipython",
    "version": 3
   },
   "file_extension": ".py",
   "mimetype": "text/x-python",
   "name": "python",
   "nbconvert_exporter": "python",
   "pygments_lexer": "ipython3",
   "version": "3.7.6"
  }
 },
 "nbformat": 4,
 "nbformat_minor": 4
}
