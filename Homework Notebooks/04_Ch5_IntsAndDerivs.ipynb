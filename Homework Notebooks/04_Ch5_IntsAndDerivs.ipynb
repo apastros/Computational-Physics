{
 "cells": [
  {
   "cell_type": "markdown",
   "metadata": {},
   "source": [
    "### Chapter 5: Integrals and Derivatives\n",
    "\n",
    "Trapezoidal Rule (explained via white board)"
   ]
  },
  {
   "cell_type": "code",
   "execution_count": 1,
   "metadata": {},
   "outputs": [],
   "source": [
    "%matplotlib inline"
   ]
  },
  {
   "cell_type": "code",
   "execution_count": 2,
   "metadata": {},
   "outputs": [
    {
     "data": {
      "image/png": "[encoded data removed]",
      "text/plain": [
       "<Figure size 432x288 with 1 Axes>"
      ]
     },
     "metadata": {
      "needs_background": "light"
     },
     "output_type": "display_data"
    },
    {
     "name": "stdout",
     "output_type": "stream",
     "text": [
      "Number of slices:  6\n",
      "Trapezoidal Rule Integral estimate=  190.5902777777778\n",
      "Analytical Result:  186.25\n",
      "Percent error = 2.3303504847129126%\n"
     ]
    }
   ],
   "source": [
    "import numpy as np\n",
    "import matplotlib.pyplot as plt\n",
    "\n",
    "def f(x):\n",
    "    return x**3 + 2*x + 1\n",
    "    \n",
    "N = 6\n",
    "a = 0\n",
    "b = 5.0\n",
    "h = (b-a)/N\n",
    "true_result = 186.25\n",
    "\n",
    "s = 0.5*(f(a) + f(b))\n",
    "for k in range(1,N):\n",
    "    s += f(a+k*h)\n",
    "  \n",
    "# plot the function\n",
    "x = np.linspace(a,b,N)\n",
    "x2 = np.linspace(a,b,100)\n",
    "\n",
    "plt.plot(x,f(x),x2,f(x2))\n",
    "plt.show()\n",
    "\n",
    "print(\"Number of slices: \",N)\n",
    "print(\"Trapezoidal Rule Integral estimate= \",h*s)\n",
    "print(\"Analytical Result: \",true_result)\n",
    "print(\"Percent error = \",np.abs((h*s)-true_result)/true_result * 100,\"%\",sep='')\n",
    "\n",
    "\n",
    "\n"
   ]
  },
  {
   "cell_type": "code",
   "execution_count": 3,
   "metadata": {},
   "outputs": [
    {
     "name": "stdout",
     "output_type": "stream",
     "text": [
      "\n",
      "Simpson's Rule Integral estimate=  186.25000000000003\n",
      "Percent error = 1.525997821766658e-14%\n"
     ]
    }
   ],
   "source": [
    "# Simpson's Rule\n",
    "\n",
    "# Now Simpson's rule\n",
    "\n",
    "s = (f(a) + f(b))\n",
    "\n",
    "for k in range(1,N,2):\n",
    "    s += 4.*f(a+k*h)\n",
    "    \n",
    "for k in range(2,N,2):\n",
    "    s += 2.*f(a+k*h)\n",
    "    \n",
    "print(\"\\nSimpson's Rule Integral estimate= \",h*s/3.)\n",
    "print(\"Percent error = \",np.abs((h*s)/3.-true_result)/true_result * 100,\"%\",sep='')\n"
   ]
  },
  {
   "cell_type": "markdown",
   "metadata": {},
   "source": [
    "### Gaussian Quadrature\n",
    "\n",
    "Here's the code:\n",
    "\n",
    "```\n",
    "######################################################################\n",
    "#\n",
    "# Functions to calculate integration points and weights for Gaussian\n",
    "# quadrature\n",
    "#\n",
    "# x,w = gaussxw(N) returns integration points x and integration\n",
    "#           weights w such that sum_i w[i]*f(x[i]) is the Nth-order\n",
    "#           Gaussian approximation to the integral int_{-1}^1 f(x) dx\n",
    "# x,w = gaussxwab(N,a,b) returns integration points and weights\n",
    "#           mapped to the interval [a,b], so that sum_i w[i]*f(x[i])\n",
    "#           is the Nth-order Gaussian approximation to the integral\n",
    "#           int_a^b f(x) dx\n",
    "#\n",
    "# This code finds the zeros of the nth Legendre polynomial using\n",
    "# Newton's method, starting from the approximation given in Abramowitz\n",
    "# and Stegun 22.16.6.  The Legendre polynomial itself is evaluated\n",
    "# using the recurrence relation given in Abramowitz and Stegun\n",
    "# 22.7.10.  The function has been checked against other sources for\n",
    "# values of N up to 1000.  It is compatible with version 2 and version\n",
    "# 3 of Python.\n",
    "#\n",
    "# Written by Mark Newman <mejn@umich.edu>, June 4, 2011\n",
    "# You may use, share, or modify this file freely\n",
    "#\n",
    "######################################################################\n",
    "\n",
    "from numpy import ones,copy,cos,tan,pi,linspace\n",
    "\n",
    "def gaussxw(N):\n",
    "\n",
    "    # Initial approximation to roots of the Legendre polynomial\n",
    "    a = linspace(3,4*N-1,N)/(4*N+2)\n",
    "    x = cos(pi*a+1/(8*N*N*tan(a)))\n",
    "\n",
    "    # Find roots using Newton's method\n",
    "    epsilon = 1e-15\n",
    "    delta = 1.0\n",
    "    while delta>epsilon:\n",
    "        p0 = ones(N,float)\n",
    "        p1 = copy(x)\n",
    "        for k in range(1,N):\n",
    "            p0,p1 = p1,((2*k+1)*x*p1-k*p0)/(k+1)\n",
    "        dp = (N+1)*(p0-x*p1)/(1-x*x)\n",
    "        dx = p1/dp\n",
    "        x -= dx\n",
    "        delta = max(abs(dx))\n",
    "\n",
    "    # Calculate the weights\n",
    "    w = 2*(N+1)*(N+1)/(N*N*(1-x*x)*dp*dp)\n",
    "\n",
    "    return x,w\n",
    "\n",
    "def gaussxwab(N,a,b):\n",
    "    x,w = gaussxw(N)\n",
    "    return 0.5*(b-a)*x+0.5*(b+a),0.5*(b-a)*w\n",
    "```"
   ]
  },
  {
   "cell_type": "code",
   "execution_count": 6,
   "metadata": {},
   "outputs": [
    {
     "data": {
      "image/png": "[encoded data removed]",
      "text/plain": [
       "<Figure size 432x288 with 1 Axes>"
      ]
     },
     "metadata": {
      "needs_background": "light"
     },
     "output_type": "display_data"
    }
   ],
   "source": [
    "# Demonstrate the positions and weights of the sample points\n",
    "# in Gaussian Quadrature method\n",
    "\n",
    "from gaussxw import gaussxw\n",
    "import matplotlib.pyplot as plt\n",
    "\n",
    "N = 10\n",
    "x,w = gaussxw(N)\n",
    "\n",
    "plt.bar(x,w,width=0.01)\n",
    "plt.show()\n"
   ]
  },
  {
   "cell_type": "markdown",
   "metadata": {},
   "source": [
    "**Example 5.2: Gassian Integral of a Simple Function**\n",
    "\n",
    "Consider the integral of $\\int_0^2(x^4-2x+1)\\,dx$.  The true value is 4.4.\n",
    "\n",
    "Here we use Gaussian quadrature with $N=3$.\n"
   ]
  },
  {
   "cell_type": "code",
   "execution_count": 7,
   "metadata": {},
   "outputs": [
    {
     "name": "stdout",
     "output_type": "stream",
     "text": [
      "4.4000000000000075\n"
     ]
    }
   ],
   "source": [
    "from gaussxw import gaussxw\n",
    "\n",
    "def f(x):\n",
    "    return x**4 - 2*x + 1\n",
    "\n",
    "N = 3\n",
    "a = 0.0\n",
    "b = 2.0\n",
    "\n",
    "x,w = gaussxw(N)\n",
    "xp = 0.5*(b-a)*x + 0.5*(b+a)\n",
    "wp = 0.5*(b-a)*w\n",
    "\n",
    "# perform the integration\n",
    "s = 0\n",
    "for k in range(N):\n",
    "    s += wp[k]*f(xp[k])\n",
    "    \n",
    "print(s)"
   ]
  },
  {
   "cell_type": "markdown",
   "metadata": {},
   "source": [
    "The integral gives the exact answer (to machine accuracy)\n",
    "\n",
    "Note this was a polynomial of degree 4, so Gaussian quadrature *should* give exact answer with $N=3$"
   ]
  },
  {
   "cell_type": "code",
   "execution_count": 8,
   "metadata": {},
   "outputs": [
    {
     "name": "stdout",
     "output_type": "stream",
     "text": [
      "186.25000000000037\n"
     ]
    }
   ],
   "source": [
    "# compute our Trapezoidal / Simpson example with N=2\n",
    "\n",
    "def f(x):\n",
    "    return x**3 + 2*x + 1\n",
    "\n",
    "N = 2\n",
    "a = 0.\n",
    "b = 5.\n",
    "\n",
    "x,w = gaussxw(N)\n",
    "xp = 0.5*(b-a)*x + 0.5*(b+a)\n",
    "wp = 0.5*(b-a)*w\n",
    "\n",
    "# perform the integration\n",
    "s = 0\n",
    "for k in range(N):\n",
    "    s += wp[k]*f(xp[k])\n",
    "    \n",
    "print(s)"
   ]
  },
  {
   "cell_type": "markdown",
   "metadata": {},
   "source": [
    "Again - exact answer (to machine accuracy).\n",
    "\n",
    "Python package 'scipy' includes gaussian quadrature (and many other techniques), so you don't really have to code this up yourself every time (after you complete this course)."
   ]
  },
  {
   "cell_type": "code",
   "execution_count": 9,
   "metadata": {},
   "outputs": [
    {
     "name": "stdout",
     "output_type": "stream",
     "text": [
      "I = 4.4000,   Error = 5.003996496050337e-14\n",
      "I = 186.2500,   Error = 2.067790383364354e-12\n",
      "I = 0.5000,   Error = 7.735031683797485e-11\n"
     ]
    }
   ],
   "source": [
    "# Quad Demo\n",
    "\n",
    "from scipy import integrate\n",
    "import numpy as np\n",
    "\n",
    "# Example 1\n",
    "\n",
    "f = lambda x : x**4 - 2*x + 1\n",
    "\n",
    "y, yerr = integrate.quad(f, 0., 2.)\n",
    "print(f\"I = {y:.4f},   Error = {yerr}\")\n",
    "\n",
    "# Example 2\n",
    "\n",
    "f = lambda x : x**3 + 2*x + 1\n",
    "\n",
    "y, yerr = integrate.quad(f ,0., 5.)\n",
    "\n",
    "print(f\"I = {y:.4f},   Error = {yerr}\")\n",
    "\n",
    "\n",
    "# Example 3 - with limit of infinity!\n",
    "\n",
    "f = lambda x : np.exp(-2.*x)\n",
    "\n",
    "y, yerr = integrate.quad(f, 0., np.inf)\n",
    "\n",
    "print(f\"I = {y:.4f},   Error = {yerr}\")\n"
   ]
  },
  {
   "cell_type": "code",
   "execution_count": null,
   "metadata": {},
   "outputs": [],
   "source": []
  }
 ],
 "metadata": {
  "kernelspec": {
   "display_name": "Python 3",
   "language": "python",
   "name": "python3"
  },
  "language_info": {
   "codemirror_mode": {
    "name": "ipython",
    "version": 3
   },
   "file_extension": ".py",
   "mimetype": "text/x-python",
   "name": "python",
   "nbconvert_exporter": "python",
   "pygments_lexer": "ipython3",
   "version": "3.6.9"
  }
 },
 "nbformat": 4,
 "nbformat_minor": 2
}
