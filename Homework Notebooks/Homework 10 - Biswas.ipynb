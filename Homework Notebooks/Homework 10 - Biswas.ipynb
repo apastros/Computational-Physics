{
 "cells": [
  {
   "cell_type": "markdown",
   "metadata": {},
   "source": [
    "# Ch 10.2 HW: Problems 8, 9, 11, 12"
   ]
  },
  {
   "cell_type": "markdown",
   "metadata": {},
   "source": [
    "### Problem 8:"
   ]
  },
  {
   "cell_type": "code",
   "execution_count": 3,
   "metadata": {},
   "outputs": [
    {
     "name": "stdout",
     "output_type": "stream",
     "text": [
      "I = 0.8389745712642539\n"
     ]
    }
   ],
   "source": [
    "from pylab import *\n",
    "N = 10000000\n",
    "\n",
    "z = random(N)\n",
    "x = z**2\n",
    "\n",
    "def g(x):\n",
    "\n",
    "    return 1/(1+exp(x))\n",
    "\n",
    "I = sum(g(x))/N*2\n",
    "\n",
    "\n",
    "print('I = {}'.format(I))"
   ]
  },
  {
   "cell_type": "markdown",
   "metadata": {},
   "source": [
    "### Problem 9:"
   ]
  },
  {
   "cell_type": "code",
   "execution_count": 9,
   "metadata": {},
   "outputs": [
    {
     "data": {
      "text/plain": [
       "[<matplotlib.lines.Line2D at 0x19d03d3be88>]"
      ]
     },
     "execution_count": 9,
     "metadata": {},
     "output_type": "execute_result"
    },
    {
     "data": {
      "image/png": "[encoded data removed]",
      "text/plain": [
       "<Figure size 432x288 with 1 Axes>"
      ]
     },
     "metadata": {
      "needs_background": "light"
     },
     "output_type": "display_data"
    }
   ],
   "source": [
    "from pylab import *\n",
    "from numpy.random import *\n",
    "#seed(1)\n",
    "#seed(5)\n",
    "\n",
    "N = 20\n",
    "J = 1\n",
    "T = 1\n",
    "kb = 1\n",
    "beta = 1\n",
    "steps = 100000#0000\n",
    "\n",
    "s = empty((N,N),int)\n",
    "\n",
    "for i in range(N):\n",
    "    for j in range(N):\n",
    "        if random()<0.5:\n",
    "            s[i,j]=1\n",
    "        else:\n",
    "            s[i,j]=-1\n",
    "            \n",
    "def energy(s):\n",
    "    \n",
    "    s1 = s[:-1,:]*s[1:,:]\n",
    "    s2 = s[:,:-1]*s[:,1:]\n",
    "    \n",
    "    E = -J*(sum(s1) + sum(s2))\n",
    "    \n",
    "    return E\n",
    "\n",
    "def energy_check(s):\n",
    "    \n",
    "    I = 0\n",
    "    for i in range(N-1):\n",
    "        for j in range(N):\n",
    "            I+=s[i,j]*s[i+1,j]\n",
    "            \n",
    "    for i in range(N):\n",
    "        for j in range(N-1):\n",
    "            I+=s[i,j]*s[i,j+1]\n",
    "        \n",
    "    return -J*I\n",
    "\n",
    "eplot = []\n",
    "Mplot = []\n",
    "E1 = energy(s)\n",
    "M = sum(s)\n",
    "for k in range(steps):\n",
    "    i = randint(N)\n",
    "    j = randint(N)\n",
    "    \n",
    "    s[i,j] *=-1\n",
    "    \n",
    "    E2 = energy(s)\n",
    "    \n",
    "    dE = E2 - E1\n",
    "    #print(dE)\n",
    "    \n",
    "    if dE>0:\n",
    "        if random()<exp(-beta*dE):\n",
    "            E1 = E2 #flip is acepted\n",
    "            M = sum(s)\n",
    "        else:\n",
    "            s[i,j]*=-1\n",
    "            #E1 = E2\n",
    "    else:\n",
    "        E1 = E2 #flip is accepted because energy falls\n",
    "        M = sum(s)\n",
    "        \n",
    "    #eplot.append(E1)\n",
    "    Mplot.append(M)\n",
    "\n",
    "plot(Mplot)"
   ]
  },
  {
   "cell_type": "markdown",
   "metadata": {},
   "source": [
    "### Problem 11:"
   ]
  },
  {
   "cell_type": "code",
   "execution_count": null,
   "metadata": {},
   "outputs": [],
   "source": []
  },
  {
   "cell_type": "markdown",
   "metadata": {},
   "source": [
    "### Problem 12:"
   ]
  },
  {
   "cell_type": "code",
   "execution_count": 11,
   "metadata": {},
   "outputs": [],
   "source": [
    "# This seems to work perfectly fine outside of the notebook environment for some reason. Can't quite pin down why that is\n",
    "from pylab import *\n",
    "from numpy.random import random\n",
    "from vpython import sphere,vector\n",
    "\n",
    "N = 500\n",
    "z1 = random(N)\n",
    "z2 = random(N)\n",
    "\n",
    "teta = arccos(1 - 2*z1)\n",
    "fi = 2*pi*z2\n",
    "\n",
    "x = sin(teta)*cos(fi)\n",
    "y = sin(teta)*sin(fi)\n",
    "z = cos(teta)\n",
    "\n",
    "\n",
    "for i in range(len(x)):\n",
    "    sphere(pos=vector(x[i],y[i],z[i]),radius=0.02)\n"
   ]
  },
  {
   "cell_type": "code",
   "execution_count": null,
   "metadata": {},
   "outputs": [],
   "source": []
  }
 ],
 "metadata": {
  "kernelspec": {
   "display_name": "Python 3",
   "language": "python",
   "name": "python3"
  },
  "language_info": {
   "codemirror_mode": {
    "name": "ipython",
    "version": 3
   },
   "file_extension": ".py",
   "mimetype": "text/x-python",
   "name": "python",
   "nbconvert_exporter": "python",
   "pygments_lexer": "ipython3",
   "version": "3.7.6"
  }
 },
 "nbformat": 4,
 "nbformat_minor": 4
}
